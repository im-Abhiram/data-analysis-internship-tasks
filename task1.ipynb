{
 "cells": [
  {
   "cell_type": "code",
   "execution_count": 31,
   "id": "55b67628-fc65-4982-8936-4d1829857199",
   "metadata": {},
   "outputs": [],
   "source": [
    "#LIST OPERATIONS\n"
   ]
  },
  {
   "cell_type": "code",
   "execution_count": 32,
   "id": "f9d49910-7361-42b3-b312-60390983c27e",
   "metadata": {},
   "outputs": [
    {
     "name": "stdout",
     "output_type": "stream",
     "text": [
      "[2, 8, 9, 1, 2, 3]\n"
     ]
    }
   ],
   "source": [
    "my_list = [2,8,9]  # Create a list with numbers\n",
    "my_list.append(1)  # Add element 1\n",
    "my_list.append(2)  # Add element 2\n",
    "my_list.append(3)  # Add element 3\n",
    "print(my_list)     # print list\n"
   ]
  },
  {
   "cell_type": "code",
   "execution_count": 33,
   "id": "0ae4202e-b52f-465d-836c-1b4dcf91a9b5",
   "metadata": {},
   "outputs": [
    {
     "name": "stdout",
     "output_type": "stream",
     "text": [
      "[2, 17, 9, 1, 2, 3]\n"
     ]
    }
   ],
   "source": [
    "my_list[1] = 17  # Modify the second element (index 1) to 17\n",
    "print(my_list)     # print list\n"
   ]
  },
  {
   "cell_type": "code",
   "execution_count": 34,
   "id": "6d040543-194f-4ecf-9330-62abb79516e1",
   "metadata": {},
   "outputs": [
    {
     "name": "stdout",
     "output_type": "stream",
     "text": [
      "[2, 17, 90, 1, 2, 3]\n"
     ]
    }
   ],
   "source": [
    "my_list[my_list.index(9)] = 90 # replace element 9 with 90\n",
    "print(my_list)     # print list\n",
    "\n"
   ]
  },
  {
   "cell_type": "code",
   "execution_count": 35,
   "id": "e1f711c2-b19c-4b1c-87b7-4304503a493c",
   "metadata": {},
   "outputs": [
    {
     "name": "stdout",
     "output_type": "stream",
     "text": [
      "[2, 90, 1, 2, 3]\n"
     ]
    }
   ],
   "source": [
    "my_list.remove(17)  # Remove element 17\n",
    "print(my_list)     # print list"
   ]
  },
  {
   "cell_type": "code",
   "execution_count": 36,
   "id": "240f4cb1-4054-4e32-88e8-13b1c7dab157",
   "metadata": {},
   "outputs": [
    {
     "name": "stdout",
     "output_type": "stream",
     "text": [
      "[90, 1, 2, 3]\n"
     ]
    }
   ],
   "source": [
    "my_list.pop(0)  # Remove the first element (index 0)\n",
    "print(my_list)     # print list"
   ]
  },
  {
   "cell_type": "code",
   "execution_count": 37,
   "id": "ccc85a75-12fd-40ac-b0d7-9e816bdd5091",
   "metadata": {},
   "outputs": [],
   "source": [
    "#DICTIONARY OPERATIONS"
   ]
  },
  {
   "cell_type": "code",
   "execution_count": 38,
   "id": "15b67d2e-3ad4-40a4-81ae-425530d85ac3",
   "metadata": {},
   "outputs": [
    {
     "name": "stdout",
     "output_type": "stream",
     "text": [
      "{'name': 'sachin', 'age': 47, 'city': 'mumbai'}\n"
     ]
    }
   ],
   "source": [
    "my_dict = {'name': 'sachin', 'age': 47, 'city': 'mumbai'} #Creating dictionary\n",
    "print(my_dict) # print dictionary\n"
   ]
  },
  {
   "cell_type": "code",
   "execution_count": 39,
   "id": "ba21b4cc-fb77-4b14-a4c0-a9c76a48d8d8",
   "metadata": {},
   "outputs": [
    {
     "name": "stdout",
     "output_type": "stream",
     "text": [
      "{'name': 'sachin', 'age': 48, 'city': 'mumbai'}\n"
     ]
    }
   ],
   "source": [
    "my_dict['age'] = 48  # Modify the value associated with key 'age'\n",
    "print(my_dict) # print dictionary"
   ]
  },
  {
   "cell_type": "code",
   "execution_count": 40,
   "id": "7f727289-75a4-4369-836f-2056cf45490b",
   "metadata": {},
   "outputs": [
    {
     "name": "stdout",
     "output_type": "stream",
     "text": [
      "{'name': 'sachin', 'age': 48, 'city': 'mumbai', 'gender': 'male'}\n"
     ]
    }
   ],
   "source": [
    "my_dict['gender'] = 'male'  # Add a new key-value pair\n",
    "print(my_dict) # print dictionary"
   ]
  },
  {
   "cell_type": "code",
   "execution_count": 41,
   "id": "dcfe0223-746f-4677-8b9d-b68abf3be6c5",
   "metadata": {},
   "outputs": [
    {
     "name": "stdout",
     "output_type": "stream",
     "text": [
      "{'name': 'sachin', 'age': 48, 'gender': 'male'}\n"
     ]
    }
   ],
   "source": [
    "del my_dict['city']  # Delete the key-value pair with key 'city'\n",
    "print(my_dict) # print dictionary"
   ]
  },
  {
   "cell_type": "code",
   "execution_count": 42,
   "id": "ee151219-42b3-4429-b1a6-ab242efc2368",
   "metadata": {},
   "outputs": [],
   "source": [
    "#SET OPERATIONS"
   ]
  },
  {
   "cell_type": "code",
   "execution_count": 43,
   "id": "31335568-3185-4e57-995a-413343016e91",
   "metadata": {},
   "outputs": [
    {
     "name": "stdout",
     "output_type": "stream",
     "text": [
      "{1, 2, 3}\n"
     ]
    }
   ],
   "source": [
    "my_set = {1, 2, 3}  # Create a set with elements 1, 2, and 3\n",
    "print(my_set) # print set"
   ]
  },
  {
   "cell_type": "code",
   "execution_count": 44,
   "id": "df3e9151-788f-479e-adde-1076fa7cf3f6",
   "metadata": {},
   "outputs": [
    {
     "name": "stdout",
     "output_type": "stream",
     "text": [
      "{1, 2, 3, 6}\n"
     ]
    }
   ],
   "source": [
    "my_set.add(6)  # Add element 4 to the set\n",
    "print(my_set) # print set"
   ]
  },
  {
   "cell_type": "code",
   "execution_count": 45,
   "id": "c4d112a6-31e2-4ae7-b886-5baf6ea4c017",
   "metadata": {},
   "outputs": [
    {
     "name": "stdout",
     "output_type": "stream",
     "text": [
      "{1, 3, 6}\n"
     ]
    }
   ],
   "source": [
    "my_set.remove(2)  # Remove element 2\n",
    "print(my_set)  # print set"
   ]
  },
  {
   "cell_type": "code",
   "execution_count": null,
   "id": "61428c89-3c36-4276-8c53-7272418520d5",
   "metadata": {},
   "outputs": [],
   "source": []
  }
 ],
 "metadata": {
  "kernelspec": {
   "display_name": "Python 3 (ipykernel)",
   "language": "python",
   "name": "python3"
  },
  "language_info": {
   "codemirror_mode": {
    "name": "ipython",
    "version": 3
   },
   "file_extension": ".py",
   "mimetype": "text/x-python",
   "name": "python",
   "nbconvert_exporter": "python",
   "pygments_lexer": "ipython3",
   "version": "3.12.4"
  }
 },
 "nbformat": 4,
 "nbformat_minor": 5
}
